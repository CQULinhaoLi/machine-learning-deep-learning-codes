{
 "cells": [
  {
   "cell_type": "code",
   "execution_count": 19,
   "metadata": {},
   "outputs": [],
   "source": [
    "import numpy as np\n",
    "\n",
    "def sigmoid(z):\n",
    "    \"\"\"Compute the sigmoid function.\"\"\"\n",
    "    return 1 / (1 + np.exp(-z))\n",
    "\n",
    "def compute_cost(X, y, theta):\n",
    "    \"\"\"Compute the cross-entropy loss function.\"\"\"\n",
    "    m = len(y)\n",
    "    h = sigmoid(np.dot(X, theta))\n",
    "    epsilon = 1e-10  # Avoid log(0)\n",
    "    cost = (-1 / m) * np.sum(y * np.log(h + epsilon) + (1 - y) * np.log(1 - h + epsilon))\n",
    "    return cost\n",
    "\n",
    "def logistic_regression(X, y, alpha, iterations=1000, epsilon=1e-6):\n",
    "    \"\"\"\n",
    "    Implements logistic regression with early stopping.\n",
    "\n",
    "    Args:\n",
    "        X: Feature matrix (m, n)\n",
    "        y: Target vector (m, )\n",
    "        alpha: Learning rate\n",
    "        iterations: Maximum number of iterations\n",
    "        epsilon: Convergence threshold for cost function change\n",
    "\n",
    "    Returns:\n",
    "        theta: Optimized parameter vector (n, )\n",
    "    \"\"\"\n",
    "    X = np.array(X)\n",
    "    y = np.array(y).reshape(-1, 1)  # Ensure y is a column vector\n",
    "    m, n = X.shape\n",
    "    theta = np.zeros((n, 1))  # Initialize theta to zeros\n",
    "    prev_cost = float('inf')  # Initialize previous cost\n",
    "\n",
    "    for i in range(iterations):\n",
    "        z = np.dot(X, theta)  # Compute z = Xθ\n",
    "        h = sigmoid(z)  # Compute prediction h = sigmoid(Xθ)\n",
    "        gradient = (1 / m) * np.dot(X.T, (h - y))  # Compute gradient\n",
    "        theta -= alpha * gradient  # Gradient descent update step\n",
    "\n",
    "        # Compute cost to check convergence\n",
    "        cost = compute_cost(X, y, theta)\n",
    "        \n",
    "        # Check for convergence\n",
    "        if abs(prev_cost - cost) < epsilon:\n",
    "            print(f'Converged at iteration {i}')\n",
    "            break\n",
    "        prev_cost = cost  # Update previous cost\n",
    "    \n",
    "    return np.round(theta.flatten(), 4)  # Flatten and round for readability\n"
   ]
  },
  {
   "cell_type": "code",
   "execution_count": 20,
   "metadata": {},
   "outputs": [
    {
     "name": "stdout",
     "output_type": "stream",
     "text": [
      "Converged at iteration 21\n"
     ]
    },
    {
     "data": {
      "text/plain": [
       "array([2.2635, 5.9859, 8.2494])"
      ]
     },
     "execution_count": 20,
     "metadata": {},
     "output_type": "execute_result"
    }
   ],
   "source": [
    "X = [[1, 1, 2], [1, 2, 3], [1, 3, 4]]\n",
    "y = [1, 2, 3]\n",
    "logistic_regression(X, y, 0.1)"
   ]
  },
  {
   "cell_type": "code",
   "execution_count": null,
   "metadata": {},
   "outputs": [],
   "source": []
  }
 ],
 "metadata": {
  "kernelspec": {
   "display_name": "StockPrediction",
   "language": "python",
   "name": "python3"
  },
  "language_info": {
   "codemirror_mode": {
    "name": "ipython",
    "version": 3
   },
   "file_extension": ".py",
   "mimetype": "text/x-python",
   "name": "python",
   "nbconvert_exporter": "python",
   "pygments_lexer": "ipython3",
   "version": "3.9.21"
  }
 },
 "nbformat": 4,
 "nbformat_minor": 2
}
