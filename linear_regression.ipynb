{
 "cells": [
  {
   "cell_type": "code",
   "execution_count": 1,
   "metadata": {},
   "outputs": [],
   "source": [
    "import numpy as np"
   ]
  },
  {
   "cell_type": "code",
   "execution_count": 34,
   "metadata": {},
   "outputs": [],
   "source": [
    "def linear_regression_normal_equation(X, y):\n",
    "    \"\"\"Normal equation method for linear equation\n",
    "    \n",
    "    Args:\n",
    "        X: m x n matrix means history data\n",
    "        y: m vector ground truth target\n",
    "    \n",
    "    Returns:\n",
    "        theta: parameters for linear regression\n",
    "    \"\"\"\n",
    "    X = np.array(X)\n",
    "    y = np.array(y)\n",
    "    X_T = np.transpose(X)\n",
    "    X_2 = np.dot(X_T, X)\n",
    "    X_2_inv = np.linalg.inv(X_2)\n",
    "    X_2_inv_X_T = np.dot(X_2_inv, X_T)\n",
    "    theta = np.dot(X_2_inv_X_T, y)\n",
    "    theta = np.round(theta, 4)\n",
    "    return theta\n"
   ]
  },
  {
   "cell_type": "code",
   "execution_count": 43,
   "metadata": {},
   "outputs": [],
   "source": [
    "import numpy as np\n",
    "\n",
    "def linear_regression_gradient_descent(X, y, alpha, iterations, _lambda=0):\n",
    "    \"\"\"\n",
    "    Performs gradient descent to optimize theta for linear regression.\n",
    "\n",
    "    Args:\n",
    "        X: Feature matrix (m, n), where m is the number of samples and n is the number of features.\n",
    "        y: Target vector (m, ).\n",
    "        alpha: Learning rate (step size for gradient updates).\n",
    "        iterations: Number of gradient descent iterations.\n",
    "        _lambda: Regularization parameter (default = 0, meaning no regularization).\n",
    "\n",
    "    Returns:\n",
    "        theta: Optimized parameter vector (n, ).\n",
    "    \"\"\"\n",
    "\n",
    "    # Convert X and y to numpy arrays (ensuring consistency)\n",
    "    X = np.array(X)\n",
    "    y = np.array(y).reshape(-1, 1)  # Reshape y to be a column vector (m, 1)\n",
    "    \n",
    "    m, n = X.shape  # Get the number of samples (m) and features (n)\n",
    "    theta = np.zeros((n, 1))  # Initialize theta as a zero vector (n, 1)\n",
    "\n",
    "    # Gradient descent loop\n",
    "    for i in range(iterations):\n",
    "        # Compute the gradient using the cost function's derivative\n",
    "        gradient = (1 / m) * np.dot(X.T, np.dot(X, theta) - y)\n",
    "        \n",
    "        # Apply L2 regularization (if _lambda > 0)\n",
    "        theta = theta * (1 - alpha * _lambda / m) - alpha * gradient\n",
    "\n",
    "        # Uncomment the following line for debugging:\n",
    "        # print(f'Iteration {i}, theta={theta.flatten()}')\n",
    "\n",
    "    # Round theta values to 4 decimal places for better readability\n",
    "    theta = np.round(theta.flatten(), 4)\n",
    "\n",
    "    return theta\n"
   ]
  },
  {
   "cell_type": "code",
   "execution_count": 44,
   "metadata": {},
   "outputs": [
    {
     "name": "stdout",
     "output_type": "stream",
     "text": [
      "[-0.  1.]\n",
      "[0. 1.]\n"
     ]
    }
   ],
   "source": [
    "X = [[1, 1], [1, 2], [1, 3]]\n",
    "y = [1, 2, 3]\n",
    "print(linear_regression_normal_equation(X, y))\n",
    "print(linear_regression_gradient_descent(X, y, 0.1, 10000, 0.00))"
   ]
  }
 ],
 "metadata": {
  "kernelspec": {
   "display_name": "StockPrediction",
   "language": "python",
   "name": "python3"
  },
  "language_info": {
   "codemirror_mode": {
    "name": "ipython",
    "version": 3
   },
   "file_extension": ".py",
   "mimetype": "text/x-python",
   "name": "python",
   "nbconvert_exporter": "python",
   "pygments_lexer": "ipython3",
   "version": "3.9.21"
  }
 },
 "nbformat": 4,
 "nbformat_minor": 2
}
